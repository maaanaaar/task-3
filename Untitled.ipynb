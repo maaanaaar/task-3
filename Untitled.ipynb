{
 "cells": [
  {
   "cell_type": "markdown",
   "id": "4c481485",
   "metadata": {},
   "source": [
    "# Iris Classification"
   ]
  },
  {
   "cell_type": "markdown",
   "id": "1d15b4ee",
   "metadata": {},
   "source": [
    "## Import the necessary libraries"
   ]
  },
  {
   "cell_type": "code",
   "execution_count": 32,
   "id": "906f466b",
   "metadata": {},
   "outputs": [],
   "source": [
    "import numpy as np\n",
    "import pandas as pd\n",
    "import matplotlib.pyplot as plt\n",
    "from sklearn import datasets\n",
    "from sklearn.model_selection import train_test_split\n",
    "from sklearn.preprocessing import StandardScaler\n",
    "import tensorflow as tf\n"
   ]
  },
  {
   "cell_type": "markdown",
   "id": "16d800fb",
   "metadata": {},
   "source": [
    "## Load the  data "
   ]
  },
  {
   "cell_type": "code",
   "execution_count": 33,
   "id": "a984e1ac",
   "metadata": {},
   "outputs": [
    {
     "name": "stdout",
     "output_type": "stream",
     "text": [
      "Dataset shape: (150, 4)\n",
      "Target classes: {0, 1, 2}\n"
     ]
    }
   ],
   "source": [
    "# Load and explore the dataset\n",
    "iris = datasets.load_iris()\n",
    "X = iris.data\n",
    "y = iris.target\n",
    "print(f'Dataset shape: {X.shape}')\n",
    "print(f'Target classes: {set(y)}')"
   ]
  },
  {
   "cell_type": "markdown",
   "id": "d75fd82c",
   "metadata": {},
   "source": [
    "## Preprocess the data :"
   ]
  },
  {
   "cell_type": "code",
   "execution_count": 34,
   "id": "1eca85c2",
   "metadata": {},
   "outputs": [],
   "source": [
    "# Preprocess the data\n",
    "X_train, X_test, y_train, y_test = train_test_split(X, y, test_size=0.2, random_state=42)\n",
    "scaler = StandardScaler()\n",
    "X_train = scaler.fit_transform(X_train)\n",
    "X_test = scaler.transform(X_test)"
   ]
  },
  {
   "cell_type": "markdown",
   "id": "7051e7bc",
   "metadata": {},
   "source": [
    "## Build the neural network model:"
   ]
  },
  {
   "cell_type": "code",
   "execution_count": 35,
   "id": "b82bd701",
   "metadata": {},
   "outputs": [
    {
     "name": "stderr",
     "output_type": "stream",
     "text": [
      "C:\\Users\\DELL\\anaconda3\\Lib\\site-packages\\keras\\src\\layers\\core\\dense.py:87: UserWarning: Do not pass an `input_shape`/`input_dim` argument to a layer. When using Sequential models, prefer using an `Input(shape)` object as the first layer in the model instead.\n",
      "  super().__init__(activity_regularizer=activity_regularizer, **kwargs)\n"
     ]
    }
   ],
   "source": [
    "# Build the neural network model\n",
    "model = Sequential([\n",
    "    Dense(10, activation='relu', input_shape=(X_train.shape[1],)),\n",
    "    Dense(10, activation='relu'),\n",
    "    Dense(3, activation='softmax')\n",
    "])\n",
    "\n",
    "model.compile(optimizer='adam', loss='sparse_categorical_crossentropy', metrics=['accuracy'])\n"
   ]
  },
  {
   "cell_type": "markdown",
   "id": "659eaa80",
   "metadata": {},
   "source": [
    "## Train the model:"
   ]
  },
  {
   "cell_type": "code",
   "execution_count": 36,
   "id": "4b24cc5e",
   "metadata": {},
   "outputs": [
    {
     "name": "stdout",
     "output_type": "stream",
     "text": [
      "Epoch 1/50\n",
      "3/3 - 1s - 361ms/step - accuracy: 0.6667 - loss: 0.9226 - val_accuracy: 0.5000 - val_loss: 0.9980\n",
      "Epoch 2/50\n",
      "3/3 - 0s - 20ms/step - accuracy: 0.6667 - loss: 0.9070 - val_accuracy: 0.5000 - val_loss: 0.9859\n",
      "Epoch 3/50\n",
      "3/3 - 0s - 17ms/step - accuracy: 0.6771 - loss: 0.8918 - val_accuracy: 0.5000 - val_loss: 0.9737\n",
      "Epoch 4/50\n",
      "3/3 - 0s - 17ms/step - accuracy: 0.6875 - loss: 0.8769 - val_accuracy: 0.5000 - val_loss: 0.9614\n",
      "Epoch 5/50\n",
      "3/3 - 0s - 23ms/step - accuracy: 0.6875 - loss: 0.8618 - val_accuracy: 0.5000 - val_loss: 0.9490\n",
      "Epoch 6/50\n",
      "3/3 - 0s - 20ms/step - accuracy: 0.6875 - loss: 0.8477 - val_accuracy: 0.5000 - val_loss: 0.9369\n",
      "Epoch 7/50\n",
      "3/3 - 0s - 17ms/step - accuracy: 0.6875 - loss: 0.8332 - val_accuracy: 0.5000 - val_loss: 0.9252\n",
      "Epoch 8/50\n",
      "3/3 - 0s - 18ms/step - accuracy: 0.6979 - loss: 0.8192 - val_accuracy: 0.5000 - val_loss: 0.9133\n",
      "Epoch 9/50\n",
      "3/3 - 0s - 23ms/step - accuracy: 0.6979 - loss: 0.8052 - val_accuracy: 0.5417 - val_loss: 0.9012\n",
      "Epoch 10/50\n",
      "3/3 - 0s - 28ms/step - accuracy: 0.6979 - loss: 0.7915 - val_accuracy: 0.5417 - val_loss: 0.8893\n",
      "Epoch 11/50\n",
      "3/3 - 0s - 19ms/step - accuracy: 0.7083 - loss: 0.7786 - val_accuracy: 0.5417 - val_loss: 0.8771\n",
      "Epoch 12/50\n",
      "3/3 - 0s - 17ms/step - accuracy: 0.7083 - loss: 0.7650 - val_accuracy: 0.5417 - val_loss: 0.8651\n",
      "Epoch 13/50\n",
      "3/3 - 0s - 18ms/step - accuracy: 0.7396 - loss: 0.7517 - val_accuracy: 0.5417 - val_loss: 0.8530\n",
      "Epoch 14/50\n",
      "3/3 - 0s - 18ms/step - accuracy: 0.7396 - loss: 0.7386 - val_accuracy: 0.5417 - val_loss: 0.8416\n",
      "Epoch 15/50\n",
      "3/3 - 0s - 17ms/step - accuracy: 0.7500 - loss: 0.7261 - val_accuracy: 0.5833 - val_loss: 0.8299\n",
      "Epoch 16/50\n",
      "3/3 - 0s - 17ms/step - accuracy: 0.7812 - loss: 0.7138 - val_accuracy: 0.5833 - val_loss: 0.8183\n",
      "Epoch 17/50\n",
      "3/3 - 0s - 18ms/step - accuracy: 0.7812 - loss: 0.7017 - val_accuracy: 0.6250 - val_loss: 0.8068\n",
      "Epoch 18/50\n",
      "3/3 - 0s - 17ms/step - accuracy: 0.7812 - loss: 0.6894 - val_accuracy: 0.6667 - val_loss: 0.7961\n",
      "Epoch 19/50\n",
      "3/3 - 0s - 17ms/step - accuracy: 0.7708 - loss: 0.6784 - val_accuracy: 0.7083 - val_loss: 0.7846\n",
      "Epoch 20/50\n",
      "3/3 - 0s - 16ms/step - accuracy: 0.8021 - loss: 0.6670 - val_accuracy: 0.6667 - val_loss: 0.7732\n",
      "Epoch 21/50\n",
      "3/3 - 0s - 20ms/step - accuracy: 0.7812 - loss: 0.6561 - val_accuracy: 0.7500 - val_loss: 0.7619\n",
      "Epoch 22/50\n",
      "3/3 - 0s - 21ms/step - accuracy: 0.7708 - loss: 0.6453 - val_accuracy: 0.7500 - val_loss: 0.7507\n",
      "Epoch 23/50\n",
      "3/3 - 0s - 20ms/step - accuracy: 0.7708 - loss: 0.6346 - val_accuracy: 0.7500 - val_loss: 0.7400\n",
      "Epoch 24/50\n",
      "3/3 - 0s - 21ms/step - accuracy: 0.7708 - loss: 0.6241 - val_accuracy: 0.7500 - val_loss: 0.7296\n",
      "Epoch 25/50\n",
      "3/3 - 0s - 20ms/step - accuracy: 0.7708 - loss: 0.6140 - val_accuracy: 0.7500 - val_loss: 0.7195\n",
      "Epoch 26/50\n",
      "3/3 - 0s - 19ms/step - accuracy: 0.7708 - loss: 0.6047 - val_accuracy: 0.7500 - val_loss: 0.7087\n",
      "Epoch 27/50\n",
      "3/3 - 0s - 22ms/step - accuracy: 0.7604 - loss: 0.5949 - val_accuracy: 0.7500 - val_loss: 0.6983\n",
      "Epoch 28/50\n",
      "3/3 - 0s - 23ms/step - accuracy: 0.7604 - loss: 0.5858 - val_accuracy: 0.7917 - val_loss: 0.6879\n",
      "Epoch 29/50\n",
      "3/3 - 0s - 20ms/step - accuracy: 0.7708 - loss: 0.5764 - val_accuracy: 0.7917 - val_loss: 0.6781\n",
      "Epoch 30/50\n",
      "3/3 - 0s - 18ms/step - accuracy: 0.7604 - loss: 0.5676 - val_accuracy: 0.7500 - val_loss: 0.6682\n",
      "Epoch 31/50\n",
      "3/3 - 0s - 19ms/step - accuracy: 0.7604 - loss: 0.5590 - val_accuracy: 0.7500 - val_loss: 0.6584\n",
      "Epoch 32/50\n",
      "3/3 - 0s - 20ms/step - accuracy: 0.7708 - loss: 0.5502 - val_accuracy: 0.7500 - val_loss: 0.6494\n",
      "Epoch 33/50\n",
      "3/3 - 0s - 19ms/step - accuracy: 0.7708 - loss: 0.5420 - val_accuracy: 0.7500 - val_loss: 0.6402\n",
      "Epoch 34/50\n",
      "3/3 - 0s - 19ms/step - accuracy: 0.7708 - loss: 0.5339 - val_accuracy: 0.7917 - val_loss: 0.6311\n",
      "Epoch 35/50\n",
      "3/3 - 0s - 19ms/step - accuracy: 0.7812 - loss: 0.5260 - val_accuracy: 0.7917 - val_loss: 0.6227\n",
      "Epoch 36/50\n",
      "3/3 - 0s - 21ms/step - accuracy: 0.8021 - loss: 0.5188 - val_accuracy: 0.7917 - val_loss: 0.6135\n",
      "Epoch 37/50\n",
      "3/3 - 0s - 17ms/step - accuracy: 0.8125 - loss: 0.5107 - val_accuracy: 0.7917 - val_loss: 0.6051\n",
      "Epoch 38/50\n",
      "3/3 - 0s - 21ms/step - accuracy: 0.8125 - loss: 0.5037 - val_accuracy: 0.7917 - val_loss: 0.5965\n",
      "Epoch 39/50\n",
      "3/3 - 0s - 19ms/step - accuracy: 0.8125 - loss: 0.4966 - val_accuracy: 0.8333 - val_loss: 0.5884\n",
      "Epoch 40/50\n",
      "3/3 - 0s - 18ms/step - accuracy: 0.8125 - loss: 0.4895 - val_accuracy: 0.8333 - val_loss: 0.5806\n",
      "Epoch 41/50\n",
      "3/3 - 0s - 20ms/step - accuracy: 0.8333 - loss: 0.4828 - val_accuracy: 0.8333 - val_loss: 0.5729\n",
      "Epoch 42/50\n",
      "3/3 - 0s - 18ms/step - accuracy: 0.8333 - loss: 0.4763 - val_accuracy: 0.8333 - val_loss: 0.5653\n",
      "Epoch 43/50\n",
      "3/3 - 0s - 19ms/step - accuracy: 0.8125 - loss: 0.4698 - val_accuracy: 0.8333 - val_loss: 0.5581\n",
      "Epoch 44/50\n",
      "3/3 - 0s - 17ms/step - accuracy: 0.8125 - loss: 0.4634 - val_accuracy: 0.8333 - val_loss: 0.5514\n",
      "Epoch 45/50\n",
      "3/3 - 0s - 21ms/step - accuracy: 0.8125 - loss: 0.4574 - val_accuracy: 0.8333 - val_loss: 0.5447\n",
      "Epoch 46/50\n",
      "3/3 - 0s - 19ms/step - accuracy: 0.8021 - loss: 0.4516 - val_accuracy: 0.8333 - val_loss: 0.5380\n",
      "Epoch 47/50\n",
      "3/3 - 0s - 17ms/step - accuracy: 0.8021 - loss: 0.4459 - val_accuracy: 0.8333 - val_loss: 0.5318\n",
      "Epoch 48/50\n",
      "3/3 - 0s - 17ms/step - accuracy: 0.8021 - loss: 0.4406 - val_accuracy: 0.8333 - val_loss: 0.5250\n",
      "Epoch 49/50\n",
      "3/3 - 0s - 17ms/step - accuracy: 0.8021 - loss: 0.4348 - val_accuracy: 0.8333 - val_loss: 0.5190\n",
      "Epoch 50/50\n",
      "3/3 - 0s - 18ms/step - accuracy: 0.8021 - loss: 0.4293 - val_accuracy: 0.8333 - val_loss: 0.5139\n"
     ]
    }
   ],
   "source": [
    "# Train the model\n",
    "history = model.fit(X_train, y_train, epochs=50, validation_split=0.2, verbose=2)"
   ]
  },
  {
   "cell_type": "markdown",
   "id": "9f38e243",
   "metadata": {},
   "source": [
    "## Evaluate the model :"
   ]
  },
  {
   "cell_type": "code",
   "execution_count": 37,
   "id": "824ec870",
   "metadata": {},
   "outputs": [
    {
     "name": "stdout",
     "output_type": "stream",
     "text": [
      "1/1 - 0s - 17ms/step - accuracy: 0.9333 - loss: 0.4002\n",
      "Test accuracy: 0.9333333373069763\n"
     ]
    }
   ],
   "source": [
    "# Evaluate the model\n",
    "test_loss, test_acc = model.evaluate(X_test, y_test, verbose=2)\n",
    "print(f'Test accuracy: {test_acc}')"
   ]
  },
  {
   "cell_type": "markdown",
   "id": "a745d14b",
   "metadata": {},
   "source": [
    "##  Visualize the results :"
   ]
  },
  {
   "cell_type": "code",
   "execution_count": 38,
   "id": "afa4b199",
   "metadata": {},
   "outputs": [
    {
     "data": {
      "text/plain": [
       "Text(0.5, 1.0, 'Training and Validation Accuracy')"
      ]
     },
     "execution_count": 38,
     "metadata": {},
     "output_type": "execute_result"
    },
    {
     "data": {
      "image/png": "[encoded data removed]",
      "text/plain": [
       "<Figure size 1200x400 with 1 Axes>"
      ]
     },
     "metadata": {},
     "output_type": "display_data"
    }
   ],
   "source": [
    "# Visualize the results\n",
    "plt.figure(figsize=(12, 4))\n",
    "plt.subplot(1, 2, 1)\n",
    "plt.plot(history.history['accuracy'], label='accuracy')\n",
    "plt.plot(history.history['val_accuracy'], label = 'val_accuracy')\n",
    "plt.xlabel('Epoch')\n",
    "plt.ylabel('Accuracy')\n",
    "plt.ylim([0, 1])\n",
    "plt.legend(loc='lower right')\n",
    "plt.title('Training and Validation Accuracy')"
   ]
  },
  {
   "cell_type": "code",
   "execution_count": 39,
   "id": "93fc13a0",
   "metadata": {},
   "outputs": [
    {
     "data": {
      "image/png": "[encoded data removed]",
      "text/plain": [
       "<Figure size 640x480 with 1 Axes>"
      ]
     },
     "metadata": {},
     "output_type": "display_data"
    }
   ],
   "source": [
    "plt.subplot(1, 2, 2)\n",
    "plt.plot(history.history['loss'], label='loss')\n",
    "plt.plot(history.history['val_loss'], label = 'val_loss')\n",
    "plt.xlabel('Epoch')\n",
    "plt.ylabel('Loss')\n",
    "plt.ylim([0, max(max(history.history['loss']), max(history.history['val_loss']))])\n",
    "plt.legend(loc='upper right')\n",
    "plt.title('Training and Validation Loss')\n",
    "plt.show()"
   ]
  }
 ],
 "metadata": {
  "kernelspec": {
   "display_name": "Python 3 (ipykernel)",
   "language": "python",
   "name": "python3"
  },
  "language_info": {
   "codemirror_mode": {
    "name": "ipython",
    "version": 3
   },
   "file_extension": ".py",
   "mimetype": "text/x-python",
   "name": "python",
   "nbconvert_exporter": "python",
   "pygments_lexer": "ipython3",
   "version": "3.11.5"
  }
 },
 "nbformat": 4,
 "nbformat_minor": 5
}
